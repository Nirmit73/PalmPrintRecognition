{
 "cells": [
  {
   "cell_type": "code",
   "execution_count": 5,
   "id": "1c57bdd7",
   "metadata": {
    "execution": {
     "iopub.execute_input": "2023-10-29T05:13:35.139827Z",
     "iopub.status.busy": "2023-10-29T05:13:35.139526Z",
     "iopub.status.idle": "2023-10-29T05:13:36.778842Z",
     "shell.execute_reply": "2023-10-29T05:13:36.778078Z"
    },
    "papermill": {
     "duration": 1.654017,
     "end_time": "2023-10-29T05:13:36.781080",
     "exception": false,
     "start_time": "2023-10-29T05:13:35.127063",
     "status": "completed"
    },
    "tags": []
   },
   "outputs": [
    {
     "name": "stderr",
     "output_type": "stream",
     "text": [
      "/opt/conda/lib/python3.10/site-packages/scipy/__init__.py:146: UserWarning: A NumPy version >=1.16.5 and <1.23.0 is required for this version of SciPy (detected version 1.23.5\n",
      "  warnings.warn(f\"A NumPy version >={np_minversion} and <{np_maxversion}\"\n"
     ]
    }
   ],
   "source": [
    "import pandas as pd\n",
    "import cv2\n",
    "import os\n",
    "from collections import defaultdict\n",
    "from sklearn.model_selection import train_test_split\n",
    "from skimage import feature\n",
    "import numpy as np\n",
    "from skimage.filters import gabor\n",
    "\n",
    "import cv2\n",
    "import mahotas as mh\n",
    "import numpy as np\n",
    "\n",
    "# Define a function to extract Zernike moments features\n",
    "def extract_zernike_moments(image):\n",
    "    # Convert the image to grayscale\n",
    "    gray_image = cv2.cvtColor(image, cv2.COLOR_BGR2GRAY)\n",
    "    \n",
    "    # Compute Zernike moments features\n",
    "    zernike_moments = mh.features.zernike_moments(gray_image, degree=8, radius=8)\n",
    "    \n",
    "    return zernike_moments\n"
   ]
  },
  {
   "cell_type": "code",
   "execution_count": 6,
   "id": "0449a199",
   "metadata": {
    "execution": {
     "iopub.execute_input": "2023-10-29T05:13:36.828152Z",
     "iopub.status.busy": "2023-10-29T05:13:36.827849Z",
     "iopub.status.idle": "2023-10-29T05:15:51.433401Z",
     "shell.execute_reply": "2023-10-29T05:15:51.432296Z"
    },
    "papermill": {
     "duration": 134.620637,
     "end_time": "2023-10-29T05:15:51.436210",
     "exception": false,
     "start_time": "2023-10-29T05:13:36.815573",
     "status": "completed"
    },
    "tags": []
   },
   "outputs": [],
   "source": [
    "from collections import defaultdict\n",
    "image_dir = r'/kaggle/input/palmprint2/Left Hand-20230918T155734Z-001/Left Hand'\n",
    "import cv2\n",
    "# List all files in the directory\n",
    "all_files = os.listdir(image_dir)\n",
    "\n",
    "# Filter out only the image filenames\n",
    "image_filenames = [filename for filename in all_files if filename.lower().endswith(('.jpg', '.jpeg', '.png', '.gif'))]\n",
    "sorted_image_filenamesL = sorted(image_filenames)\n",
    "left_label=[int(i[:3]) for i in sorted_image_filenamesL]\n",
    "left = defaultdict(list)\n",
    "j=0\n",
    "for i in left_label:\n",
    "    image_path = os.path.join(image_dir, sorted_image_filenamesL[j])\n",
    "    # Load image using cv2\n",
    "    image = cv2.imread(image_path)\n",
    "    left[i].append(extract_zernike_moments(image))\n",
    "    j+=1"
   ]
  },
  {
   "cell_type": "code",
   "execution_count": 7,
   "id": "07780faa",
   "metadata": {
    "execution": {
     "iopub.execute_input": "2023-10-29T05:15:51.460619Z",
     "iopub.status.busy": "2023-10-29T05:15:51.460298Z",
     "iopub.status.idle": "2023-10-29T05:15:51.467366Z",
     "shell.execute_reply": "2023-10-29T05:15:51.466467Z"
    },
    "papermill": {
     "duration": 0.021141,
     "end_time": "2023-10-29T05:15:51.469216",
     "exception": false,
     "start_time": "2023-10-29T05:15:51.448075",
     "status": "completed"
    },
    "tags": []
   },
   "outputs": [
    {
     "name": "stdout",
     "output_type": "stream",
     "text": [
      "[array([0.31830989, 0.00737391, 0.00515099, 0.00372084, 0.0124555 ,\n",
      "       0.01302643, 0.00776043, 0.00583747, 0.00881355, 0.01826205,\n",
      "       0.0197055 , 0.02726413, 0.00700704, 0.00701137, 0.01280934,\n",
      "       0.03597208, 0.02786955, 0.03166724, 0.03451033, 0.02586565,\n",
      "       0.00933142, 0.00801067, 0.0164651 , 0.0492434 , 0.01393055]), array([0.31830989, 0.00470457, 0.00525742, 0.01129755, 0.00806886,\n",
      "       0.01272158, 0.00475007, 0.02012745, 0.0323807 , 0.01230339,\n",
      "       0.02380828, 0.01735691, 0.00201335, 0.02034757, 0.03991454,\n",
      "       0.00282836, 0.01914811, 0.03510041, 0.02860473, 0.01135713,\n",
      "       0.01149293, 0.02101204, 0.03816066, 0.00355572, 0.02086613]), array([0.31830989, 0.00504456, 0.00695976, 0.01201918, 0.0034555 ,\n",
      "       0.00616242, 0.01287682, 0.02026647, 0.00755761, 0.0054496 ,\n",
      "       0.01126434, 0.00941854, 0.01032703, 0.02795467, 0.01382258,\n",
      "       0.00297215, 0.00971859, 0.01337672, 0.01021663, 0.01837378,\n",
      "       0.00142266, 0.0335903 , 0.02738596, 0.00466528, 0.02432697]), array([0.31830989, 0.00894352, 0.00144205, 0.01203663, 0.01825798,\n",
      "       0.00208513, 0.00226291, 0.01530944, 0.00935846, 0.02750483,\n",
      "       0.00202925, 0.02663721, 0.0100836 , 0.02002376, 0.00749515,\n",
      "       0.03217648, 0.03591656, 0.00735092, 0.04069102, 0.03353891,\n",
      "       0.01511398, 0.02177597, 0.01152266, 0.04179985, 0.01332636]), array([0.31830989, 0.0028215 , 0.00557174, 0.01192119, 0.00270404,\n",
      "       0.00348659, 0.01298168, 0.01686474, 0.00726457, 0.00804347,\n",
      "       0.00446371, 0.02003423, 0.01174281, 0.0225214 , 0.00569381,\n",
      "       0.01806043, 0.01798244, 0.00420647, 0.02476637, 0.01619956,\n",
      "       0.00361821, 0.02559803, 0.01369637, 0.02681539, 0.01628983]), array([0.31830989, 0.00813877, 0.00080392, 0.01221579, 0.00777478,\n",
      "       0.00930917, 0.00077957, 0.01625323, 0.0036822 , 0.01157613,\n",
      "       0.01587956, 0.01500951, 0.0017828 , 0.02154961, 0.00544818,\n",
      "       0.01889255, 0.01372137, 0.0221026 , 0.02541706, 0.03373864,\n",
      "       0.00212242, 0.0190562 , 0.00926279, 0.01624531, 0.03239128])]\n"
     ]
    }
   ],
   "source": [
    "print(left[1])"
   ]
  },
  {
   "cell_type": "code",
   "execution_count": 8,
   "id": "d378d575",
   "metadata": {
    "execution": {
     "iopub.execute_input": "2023-10-29T05:15:51.492855Z",
     "iopub.status.busy": "2023-10-29T05:15:51.492603Z",
     "iopub.status.idle": "2023-10-29T05:15:51.497205Z",
     "shell.execute_reply": "2023-10-29T05:15:51.496366Z"
    },
    "papermill": {
     "duration": 0.01865,
     "end_time": "2023-10-29T05:15:51.499260",
     "exception": false,
     "start_time": "2023-10-29T05:15:51.480610",
     "status": "completed"
    },
    "tags": []
   },
   "outputs": [
    {
     "name": "stdout",
     "output_type": "stream",
     "text": [
      "25\n"
     ]
    }
   ],
   "source": [
    "print(len(left[1][0]))"
   ]
  },
  {
   "cell_type": "code",
   "execution_count": 9,
   "id": "4df417c4",
   "metadata": {
    "execution": {
     "iopub.execute_input": "2023-10-29T05:15:51.523204Z",
     "iopub.status.busy": "2023-10-29T05:15:51.522917Z",
     "iopub.status.idle": "2023-10-29T05:18:05.905339Z",
     "shell.execute_reply": "2023-10-29T05:18:05.904418Z"
    },
    "papermill": {
     "duration": 134.397061,
     "end_time": "2023-10-29T05:18:05.907743",
     "exception": false,
     "start_time": "2023-10-29T05:15:51.510682",
     "status": "completed"
    },
    "tags": []
   },
   "outputs": [
    {
     "name": "stderr",
     "output_type": "stream",
     "text": [
      "Corrupt JPEG data: premature end of data segment\n"
     ]
    }
   ],
   "source": [
    "from collections import defaultdict\n",
    "image_dir = r'/kaggle/input/palmprint2/Right Hand-20230918T155917Z-001/Right Hand'\n",
    "import cv2\n",
    "# List all files in the directory\n",
    "all_files = os.listdir(image_dir)\n",
    "\n",
    "# Filter out only the image filenames\n",
    "image_filenames = [filename for filename in all_files if filename.lower().endswith(('.jpg', '.jpeg', '.png', '.gif'))]\n",
    "sorted_image_filenamesR = sorted(image_filenames)\n",
    "right_label=[int(i[:3]) for i in sorted_image_filenamesR]\n",
    "right = defaultdict(list)\n",
    "j=0\n",
    "for i in right_label:\n",
    "    image_path = os.path.join(image_dir, sorted_image_filenamesR[j])\n",
    "    # Load image using cv2\n",
    "    image = cv2.imread(image_path)\n",
    "    right[i].append(extract_zernike_moments(image))\n",
    "    j+=1"
   ]
  },
  {
   "cell_type": "code",
   "execution_count": 10,
   "id": "017ccbb0",
   "metadata": {
    "execution": {
     "iopub.execute_input": "2023-10-29T05:18:05.933052Z",
     "iopub.status.busy": "2023-10-29T05:18:05.932442Z",
     "iopub.status.idle": "2023-10-29T05:18:05.937463Z",
     "shell.execute_reply": "2023-10-29T05:18:05.936582Z"
    },
    "papermill": {
     "duration": 0.019611,
     "end_time": "2023-10-29T05:18:05.939584",
     "exception": false,
     "start_time": "2023-10-29T05:18:05.919973",
     "status": "completed"
    },
    "tags": []
   },
   "outputs": [
    {
     "name": "stdout",
     "output_type": "stream",
     "text": [
      "25\n"
     ]
    }
   ],
   "source": [
    "print(len(right[1][0]))"
   ]
  },
  {
   "cell_type": "markdown",
   "id": "648f5121",
   "metadata": {
    "papermill": {
     "duration": 0.011246,
     "end_time": "2023-10-29T05:18:05.962466",
     "exception": false,
     "start_time": "2023-10-29T05:18:05.951220",
     "status": "completed"
    },
    "tags": []
   },
   "source": [
    "## Intra-Class Variability"
   ]
  },
  {
   "cell_type": "code",
   "execution_count": 11,
   "id": "49314fe6",
   "metadata": {
    "execution": {
     "iopub.execute_input": "2023-10-29T05:18:05.986877Z",
     "iopub.status.busy": "2023-10-29T05:18:05.986623Z",
     "iopub.status.idle": "2023-10-29T05:18:06.020814Z",
     "shell.execute_reply": "2023-10-29T05:18:06.020141Z"
    },
    "papermill": {
     "duration": 0.048602,
     "end_time": "2023-10-29T05:18:06.022739",
     "exception": false,
     "start_time": "2023-10-29T05:18:05.974137",
     "status": "completed"
    },
    "tags": []
   },
   "outputs": [],
   "source": [
    "import numpy as np\n",
    "#Intra Variability\n",
    "intra_left=defaultdict(list)\n",
    "mean_left=defaultdict(list)\n",
    "mean_right=defaultdict(list)\n",
    "for i in range(1,231):\n",
    "    mean_lbp=np.mean(left[i],axis=0)\n",
    "    mean_left[i]=mean_lbp\n",
    "    intra_left[i]=[np.linalg.norm(mean_lbp - sample_lbp) for sample_lbp in left[i]]\n",
    "intra_right=defaultdict(list)\n",
    "for i in range(1,231):\n",
    "    mean_lbp=np.mean(right[i],axis=0)\n",
    "    mean_right[i]=mean_lbp\n",
    "    intra_right[i]=[np.linalg.norm(mean_lbp - sample_lbp) for sample_lbp in right[i]]"
   ]
  },
  {
   "cell_type": "code",
   "execution_count": 12,
   "id": "9995c703",
   "metadata": {
    "execution": {
     "iopub.execute_input": "2023-10-29T05:18:06.046857Z",
     "iopub.status.busy": "2023-10-29T05:18:06.046612Z",
     "iopub.status.idle": "2023-10-29T05:18:06.050904Z",
     "shell.execute_reply": "2023-10-29T05:18:06.050147Z"
    },
    "papermill": {
     "duration": 0.018695,
     "end_time": "2023-10-29T05:18:06.053015",
     "exception": false,
     "start_time": "2023-10-29T05:18:06.034320",
     "status": "completed"
    },
    "tags": []
   },
   "outputs": [
    {
     "name": "stdout",
     "output_type": "stream",
     "text": [
      "[0.04423618590587747, 0.05223304866592067, 0.04114041230100927, 0.04375552210819275, 0.026453485984535795, 0.027841644768973443]\n",
      "[0.03356671921306926, 0.02510103530701133, 0.036881985155919346, 0.046277532031443476, 0.030231351140144466]\n"
     ]
    }
   ],
   "source": [
    "print(intra_left[1])\n",
    "print(intra_right[1])"
   ]
  },
  {
   "cell_type": "markdown",
   "id": "56ea4eae",
   "metadata": {
    "papermill": {
     "duration": 0.01152,
     "end_time": "2023-10-29T05:18:06.076435",
     "exception": false,
     "start_time": "2023-10-29T05:18:06.064915",
     "status": "completed"
    },
    "tags": []
   },
   "source": [
    "## Inter-Class Variability"
   ]
  },
  {
   "cell_type": "code",
   "execution_count": 13,
   "id": "4562138b",
   "metadata": {
    "execution": {
     "iopub.execute_input": "2023-10-29T05:18:06.146630Z",
     "iopub.status.busy": "2023-10-29T05:18:06.145819Z",
     "iopub.status.idle": "2023-10-29T05:18:06.162577Z",
     "shell.execute_reply": "2023-10-29T05:18:06.160926Z"
    },
    "papermill": {
     "duration": 0.033928,
     "end_time": "2023-10-29T05:18:06.166586",
     "exception": false,
     "start_time": "2023-10-29T05:18:06.132658",
     "status": "completed"
    },
    "tags": []
   },
   "outputs": [
    {
     "name": "stdout",
     "output_type": "stream",
     "text": [
      "Left Hand - Mean Inter-class Distance: 0.029577214208103282\n",
      "Left Hand - Standard Deviation of Inter-class Distance: 0.009570971314407551\n",
      "\n",
      "Right Hand - Mean Inter-class Distance: 0.03302328602635713\n",
      "Right Hand - Standard Deviation of Inter-class Distance: 0.011934274573432513\n"
     ]
    }
   ],
   "source": [
    "from sklearn.metrics.pairwise import euclidean_distances\n",
    "print(\"Left Hand - Mean Inter-class Distance:\", np.mean(euclidean_distances(list(mean_left.values()))))\n",
    "print(\"Left Hand - Standard Deviation of Inter-class Distance:\", np.std(euclidean_distances(list(mean_left.values()))))\n",
    "print(\"\\nRight Hand - Mean Inter-class Distance:\", np.mean(euclidean_distances(list(mean_right.values()))))\n",
    "print(\"Right Hand - Standard Deviation of Inter-class Distance:\", np.std(euclidean_distances(list(mean_right.values()))))"
   ]
  },
  {
   "cell_type": "markdown",
   "id": "c513661d",
   "metadata": {},
   "source": [
    "#### Zernike Moments"
   ]
  },
  {
   "cell_type": "code",
   "execution_count": 14,
   "id": "f6c66a19",
   "metadata": {
    "execution": {
     "iopub.execute_input": "2023-10-29T05:18:06.220054Z",
     "iopub.status.busy": "2023-10-29T05:18:06.219465Z",
     "iopub.status.idle": "2023-10-29T05:18:06.227963Z",
     "shell.execute_reply": "2023-10-29T05:18:06.226684Z"
    },
    "papermill": {
     "duration": 0.042062,
     "end_time": "2023-10-29T05:18:06.234606",
     "exception": false,
     "start_time": "2023-10-29T05:18:06.192544",
     "status": "completed"
    },
    "tags": []
   },
   "outputs": [
    {
     "name": "stdout",
     "output_type": "stream",
     "text": [
      "230 230\n",
      "[0.31830989 0.00617114 0.00419765 0.0105352  0.00878611 0.00779855\n",
      " 0.00690191 0.01577647 0.01150951 0.01385658 0.01285844 0.01928675\n",
      " 0.00715944 0.0199014  0.01419727 0.01848367 0.0207261  0.01896739\n",
      " 0.02736769 0.02317895 0.0071836  0.0215072  0.01941559 0.02372083\n",
      " 0.02018852]\n"
     ]
    }
   ],
   "source": [
    "print(len(mean_left),len(mean_right))\n",
    "print(mean_left[1])"
   ]
  },
  {
   "cell_type": "markdown",
   "id": "ed4d2a49",
   "metadata": {
    "papermill": {
     "duration": 0.025991,
     "end_time": "2023-10-29T05:18:06.286168",
     "exception": false,
     "start_time": "2023-10-29T05:18:06.260177",
     "status": "completed"
    },
    "tags": []
   },
   "source": [
    "### Checking Inter-Class Variability for a particular person"
   ]
  },
  {
   "cell_type": "markdown",
   "id": "3fe34f46",
   "metadata": {
    "papermill": {
     "duration": 0.011779,
     "end_time": "2023-10-29T05:18:06.313171",
     "exception": false,
     "start_time": "2023-10-29T05:18:06.301392",
     "status": "completed"
    },
    "tags": []
   },
   "source": [
    "#### At Threshold_1"
   ]
  },
  {
   "cell_type": "code",
   "execution_count": 15,
   "id": "51653e2d",
   "metadata": {
    "execution": {
     "iopub.execute_input": "2023-10-29T05:18:06.338017Z",
     "iopub.status.busy": "2023-10-29T05:18:06.337752Z",
     "iopub.status.idle": "2023-10-29T05:18:06.355259Z",
     "shell.execute_reply": "2023-10-29T05:18:06.353859Z"
    },
    "papermill": {
     "duration": 0.033096,
     "end_time": "2023-10-29T05:18:06.358283",
     "exception": false,
     "start_time": "2023-10-29T05:18:06.325187",
     "status": "completed"
    },
    "tags": []
   },
   "outputs": [
    {
     "data": {
      "text/plain": [
       "array([False,  True, False, False, False,  True,  True,  True,  True,\n",
       "        True, False,  True,  True,  True,  True, False, False,  True,\n",
       "        True,  True,  True,  True,  True, False,  True,  True,  True,\n",
       "        True,  True, False,  True,  True, False,  True,  True,  True,\n",
       "       False,  True,  True, False,  True, False,  True,  True,  True,\n",
       "        True,  True,  True,  True,  True, False,  True,  True,  True,\n",
       "        True,  True, False,  True,  True,  True,  True,  True,  True,\n",
       "       False,  True, False,  True,  True,  True,  True,  True,  True,\n",
       "       False,  True,  True,  True, False, False,  True,  True,  True,\n",
       "       False,  True,  True, False,  True,  True,  True,  True,  True,\n",
       "        True, False, False,  True,  True,  True,  True,  True, False,\n",
       "       False, False,  True,  True,  True,  True, False,  True, False,\n",
       "        True,  True,  True, False,  True,  True,  True, False,  True,\n",
       "       False,  True, False,  True, False,  True,  True,  True, False,\n",
       "        True,  True,  True,  True, False,  True,  True,  True,  True,\n",
       "       False,  True, False,  True, False,  True,  True, False, False,\n",
       "       False,  True, False,  True,  True,  True,  True,  True,  True,\n",
       "       False,  True,  True,  True,  True,  True, False, False,  True,\n",
       "       False, False, False,  True,  True,  True,  True,  True,  True,\n",
       "        True, False, False,  True,  True, False,  True,  True,  True,\n",
       "        True,  True,  True, False, False,  True,  True,  True, False,\n",
       "        True,  True,  True, False,  True,  True,  True,  True, False,\n",
       "       False,  True, False,  True, False,  True, False,  True,  True,\n",
       "       False, False,  True,  True, False,  True, False, False,  True,\n",
       "        True,  True,  True,  True,  True,  True, False, False,  True,\n",
       "        True, False, False,  True])"
      ]
     },
     "execution_count": 15,
     "metadata": {},
     "output_type": "execute_result"
    }
   ],
   "source": [
    "checker=mean_left[1]\n",
    "threshold_1=np.mean((euclidean_distances(list(mean_left.values()))))\n",
    "k=[]\n",
    "for i in range(2,231):\n",
    "    k.append(np.linalg.norm(checker-mean_left[i]))\n",
    "k<threshold_1"
   ]
  },
  {
   "cell_type": "code",
   "execution_count": 16,
   "id": "abee6012",
   "metadata": {
    "execution": {
     "iopub.execute_input": "2023-10-29T05:18:06.415454Z",
     "iopub.status.busy": "2023-10-29T05:18:06.414936Z",
     "iopub.status.idle": "2023-10-29T05:18:06.439239Z",
     "shell.execute_reply": "2023-10-29T05:18:06.437624Z"
    },
    "papermill": {
     "duration": 0.057982,
     "end_time": "2023-10-29T05:18:06.443122",
     "exception": false,
     "start_time": "2023-10-29T05:18:06.385140",
     "status": "completed"
    },
    "tags": []
   },
   "outputs": [
    {
     "name": "stdout",
     "output_type": "stream",
     "text": [
      "False Positive:  159\n",
      "True Negative:  70\n",
      "True Positive: 2\n",
      "False Negative: 3\n",
      "False Positive Rate:  0.6943231441048034\n",
      "True Positive Rate: 0.4\n"
     ]
    }
   ],
   "source": [
    "FP_1=len([1 for i in k<threshold_1 if i==True])\n",
    "TN_1=len([0 for i in k<threshold_1 if i==False])\n",
    "FPR_1=FP_1/(FP_1+TN_1)\n",
    "h=[]\n",
    "for c in range(1,6):\n",
    "    h.append(abs(np.linalg.norm(left[1][c]-mean_left[1])))\n",
    "TP_1=len([1 for c in h<threshold_1 if c==True])\n",
    "FN_1=len([0 for c in h<threshold_1 if c==False])\n",
    "TPR_1=TP_1/(TP_1+FN_1)\n",
    "print('False Positive: ',FP_1)\n",
    "print('True Negative: ',TN_1)\n",
    "print('True Positive:',TP_1)\n",
    "print('False Negative:',FN_1)\n",
    "print('False Positive Rate: ',FPR_1)\n",
    "print('True Positive Rate:',TPR_1)"
   ]
  },
  {
   "cell_type": "code",
   "execution_count": 17,
   "id": "0d8d0770",
   "metadata": {
    "execution": {
     "iopub.execute_input": "2023-10-29T05:18:06.488483Z",
     "iopub.status.busy": "2023-10-29T05:18:06.488192Z",
     "iopub.status.idle": "2023-10-29T05:18:06.493826Z",
     "shell.execute_reply": "2023-10-29T05:18:06.492971Z"
    },
    "papermill": {
     "duration": 0.024387,
     "end_time": "2023-10-29T05:18:06.495988",
     "exception": false,
     "start_time": "2023-10-29T05:18:06.471601",
     "status": "completed"
    },
    "tags": []
   },
   "outputs": [
    {
     "data": {
      "text/plain": [
       "0.029577214208103282"
      ]
     },
     "execution_count": 17,
     "metadata": {},
     "output_type": "execute_result"
    }
   ],
   "source": [
    "threshold_1"
   ]
  },
  {
   "cell_type": "code",
   "execution_count": 18,
   "id": "bb3e4071",
   "metadata": {
    "execution": {
     "iopub.execute_input": "2023-10-29T05:18:06.522740Z",
     "iopub.status.busy": "2023-10-29T05:18:06.522011Z",
     "iopub.status.idle": "2023-10-29T05:18:06.907908Z",
     "shell.execute_reply": "2023-10-29T05:18:06.906975Z"
    },
    "papermill": {
     "duration": 0.401126,
     "end_time": "2023-10-29T05:18:06.910158",
     "exception": false,
     "start_time": "2023-10-29T05:18:06.509032",
     "status": "completed"
    },
    "tags": []
   },
   "outputs": [],
   "source": [
    "threshold_array = np.arange(threshold_1, 0, -0.0002)\n",
    "FPR=[]\n",
    "TPR=[]\n",
    "for i in threshold_array:\n",
    "    k=[]\n",
    "    h=[]\n",
    "    for j in range(2,231):\n",
    "        k.append(abs(np.linalg.norm(checker-mean_left[j])))\n",
    "    for c in range(1,6):\n",
    "        h.append(abs(np.linalg.norm(left[1][c]-mean_left[1])))    \n",
    "    FP=len([1 for c in k<i if c==True])\n",
    "    TN=len([0 for c in k<i if c==False])\n",
    "    TP=len([1 for c in h<i if c==True])\n",
    "    FN=len([0 for c in h<i if c==False])\n",
    "    FPR.append(FP/(FP+TN))\n",
    "    TPR.append(TP/(TP+FN))"
   ]
  },
  {
   "cell_type": "code",
   "execution_count": 19,
   "id": "7ef7431f",
   "metadata": {
    "execution": {
     "iopub.execute_input": "2023-10-29T05:18:06.936911Z",
     "iopub.status.busy": "2023-10-29T05:18:06.936644Z",
     "iopub.status.idle": "2023-10-29T05:18:06.941152Z",
     "shell.execute_reply": "2023-10-29T05:18:06.940305Z"
    },
    "papermill": {
     "duration": 0.020465,
     "end_time": "2023-10-29T05:18:06.943268",
     "exception": false,
     "start_time": "2023-10-29T05:18:06.922803",
     "status": "completed"
    },
    "tags": []
   },
   "outputs": [
    {
     "name": "stdout",
     "output_type": "stream",
     "text": [
      "[0.4, 0.4, 0.4, 0.4, 0.4, 0.4, 0.4, 0.4, 0.4, 0.2, 0.2, 0.2, 0.2, 0.2, 0.2, 0.2, 0.0, 0.0, 0.0, 0.0, 0.0, 0.0, 0.0, 0.0, 0.0, 0.0, 0.0, 0.0, 0.0, 0.0, 0.0, 0.0, 0.0, 0.0, 0.0, 0.0, 0.0, 0.0, 0.0, 0.0, 0.0, 0.0, 0.0, 0.0, 0.0, 0.0, 0.0, 0.0, 0.0, 0.0, 0.0, 0.0, 0.0, 0.0, 0.0, 0.0, 0.0, 0.0, 0.0, 0.0, 0.0, 0.0, 0.0, 0.0, 0.0, 0.0, 0.0, 0.0, 0.0, 0.0, 0.0, 0.0, 0.0, 0.0, 0.0, 0.0, 0.0, 0.0, 0.0, 0.0, 0.0, 0.0, 0.0, 0.0, 0.0, 0.0, 0.0, 0.0, 0.0, 0.0, 0.0, 0.0, 0.0, 0.0, 0.0, 0.0, 0.0, 0.0, 0.0, 0.0, 0.0, 0.0, 0.0, 0.0, 0.0, 0.0, 0.0, 0.0, 0.0, 0.0, 0.0, 0.0, 0.0, 0.0, 0.0, 0.0, 0.0, 0.0, 0.0, 0.0, 0.0, 0.0, 0.0, 0.0, 0.0, 0.0, 0.0, 0.0, 0.0, 0.0, 0.0, 0.0, 0.0, 0.0, 0.0, 0.0, 0.0, 0.0, 0.0, 0.0, 0.0, 0.0, 0.0, 0.0, 0.0, 0.0, 0.0, 0.0]\n",
      "[0.6943231441048034, 0.6943231441048034, 0.6812227074235808, 0.6724890829694323, 0.6681222707423581, 0.6550218340611353, 0.6419213973799127, 0.6375545851528385, 0.6200873362445415, 0.611353711790393, 0.6026200873362445, 0.5938864628820961, 0.5807860262008734, 0.5676855895196506, 0.5589519650655022, 0.5414847161572053, 0.5414847161572053, 0.5283842794759825, 0.5283842794759825, 0.5021834061135371, 0.4978165938864629, 0.462882096069869, 0.4585152838427948, 0.4497816593886463, 0.4410480349344978, 0.4279475982532751, 0.42358078602620086, 0.4192139737991266, 0.4017467248908297, 0.3930131004366812, 0.38427947598253276, 0.37554585152838427, 0.35807860262008734, 0.3406113537117904, 0.32751091703056767, 0.3231441048034934, 0.30131004366812225, 0.2925764192139738, 0.2838427947598253, 0.27510917030567683, 0.2663755458515284, 0.26200873362445415, 0.2576419213973799, 0.24890829694323144, 0.22707423580786026, 0.22270742358078602, 0.21397379912663755, 0.2096069868995633, 0.19213973799126638, 0.18777292576419213, 0.17467248908296942, 0.1703056768558952, 0.1615720524017467, 0.13537117903930132, 0.13100436681222707, 0.13100436681222707, 0.1222707423580786, 0.10480349344978165, 0.10480349344978165, 0.10043668122270742, 0.10043668122270742, 0.10043668122270742, 0.09170305676855896, 0.09170305676855896, 0.08733624454148471, 0.08733624454148471, 0.07860262008733625, 0.07423580786026202, 0.06550218340611354, 0.0611353711790393, 0.048034934497816595, 0.048034934497816595, 0.048034934497816595, 0.039301310043668124, 0.039301310043668124, 0.034934497816593885, 0.03056768558951965, 0.021834061135371178, 0.021834061135371178, 0.017467248908296942, 0.017467248908296942, 0.017467248908296942, 0.017467248908296942, 0.013100436681222707, 0.013100436681222707, 0.013100436681222707, 0.013100436681222707, 0.008733624454148471, 0.004366812227074236, 0.004366812227074236, 0.004366812227074236, 0.004366812227074236, 0.0, 0.0, 0.0, 0.0, 0.0, 0.0, 0.0, 0.0, 0.0, 0.0, 0.0, 0.0, 0.0, 0.0, 0.0, 0.0, 0.0, 0.0, 0.0, 0.0, 0.0, 0.0, 0.0, 0.0, 0.0, 0.0, 0.0, 0.0, 0.0, 0.0, 0.0, 0.0, 0.0, 0.0, 0.0, 0.0, 0.0, 0.0, 0.0, 0.0, 0.0, 0.0, 0.0, 0.0, 0.0, 0.0, 0.0, 0.0, 0.0, 0.0, 0.0, 0.0, 0.0, 0.0, 0.0, 0.0]\n"
     ]
    }
   ],
   "source": [
    "print(TPR)\n",
    "print(FPR)"
   ]
  },
  {
   "cell_type": "code",
   "execution_count": 20,
   "id": "95bd5ec9",
   "metadata": {
    "execution": {
     "iopub.execute_input": "2023-10-29T05:18:06.969671Z",
     "iopub.status.busy": "2023-10-29T05:18:06.969145Z",
     "iopub.status.idle": "2023-10-29T05:18:07.268556Z",
     "shell.execute_reply": "2023-10-29T05:18:07.267648Z"
    },
    "papermill": {
     "duration": 0.314685,
     "end_time": "2023-10-29T05:18:07.270571",
     "exception": false,
     "start_time": "2023-10-29T05:18:06.955886",
     "status": "completed"
    },
    "tags": []
   },
   "outputs": [
    {
     "data": {
      "image/png": "[encoded data removed]",
      "text/plain": [
       "<Figure size 640x480 with 1 Axes>"
      ]
     },
     "metadata": {},
     "output_type": "display_data"
    }
   ],
   "source": [
    "import matplotlib.pyplot as plt\n",
    "\n",
    "# Hypothetical TPR and FPR values for different thresholds\n",
    "# Replace these with actual values from your model\n",
    "#thresholds = [0.01959017974191824, 0.019, 0.0185, 0.018, 0.0175]  # Example threshold values\n",
    "#tpr_values = tpr  # Example TPR values corresponding to the thresholds\n",
    "#fpr_values = fpr  # Example FPR values corresponding to the thresholds\n",
    "\n",
    "# Plot ROC curve\n",
    "plt.plot(FPR, TPR, color='b', marker='o', label='ROC curve')\n",
    "plt.plot([0, 1], [0, 1], color='gray', linestyle='--')  # Random classifier line\n",
    "plt.xlabel('False Positive Rate (FPR)')\n",
    "plt.ylabel('True Positive Rate (TPR)')\n",
    "plt.title('ROC Curve')\n",
    "plt.legend()\n",
    "plt.show()\n"
   ]
  }
 ],
 "metadata": {
  "kernelspec": {
   "display_name": "Python 3 (ipykernel)",
   "language": "python",
   "name": "python3"
  },
  "language_info": {
   "codemirror_mode": {
    "name": "ipython",
    "version": 3
   },
   "file_extension": ".py",
   "mimetype": "text/x-python",
   "name": "python",
   "nbconvert_exporter": "python",
   "pygments_lexer": "ipython3",
   "version": "3.9.12"
  },
  "papermill": {
   "default_parameters": {},
   "duration": 303.981752,
   "end_time": "2023-10-29T05:18:09.059393",
   "environment_variables": {},
   "exception": null,
   "input_path": "__notebook__.ipynb",
   "output_path": "__notebook__.ipynb",
   "parameters": {},
   "start_time": "2023-10-29T05:13:05.077641",
   "version": "2.4.0"
  }
 },
 "nbformat": 4,
 "nbformat_minor": 5
}
