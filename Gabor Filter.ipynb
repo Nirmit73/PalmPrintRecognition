{
 "cells": [
  {
   "cell_type": "code",
   "execution_count": 3,
   "id": "008a871a",
   "metadata": {
    "execution": {
     "iopub.execute_input": "2023-10-28T06:26:59.417690Z",
     "iopub.status.busy": "2023-10-28T06:26:59.417392Z",
     "iopub.status.idle": "2023-10-28T06:27:00.896587Z",
     "shell.execute_reply": "2023-10-28T06:27:00.895818Z"
    },
    "papermill": {
     "duration": 1.492511,
     "end_time": "2023-10-28T06:27:00.898946",
     "exception": false,
     "start_time": "2023-10-28T06:26:59.406435",
     "status": "completed"
    },
    "tags": []
   },
   "outputs": [
    {
     "name": "stderr",
     "output_type": "stream",
     "text": [
      "/opt/conda/lib/python3.10/site-packages/scipy/__init__.py:146: UserWarning: A NumPy version >=1.16.5 and <1.23.0 is required for this version of SciPy (detected version 1.23.5\n",
      "  warnings.warn(f\"A NumPy version >={np_minversion} and <{np_maxversion}\"\n"
     ]
    }
   ],
   "source": [
    "import pandas as pd\n",
    "import cv2\n",
    "import os\n",
    "from collections import defaultdict\n",
    "from sklearn.model_selection import train_test_split\n",
    "from skimage import feature\n",
    "import numpy as np\n",
    "from skimage.filters import gabor\n",
    "\n",
    "\n",
    "# Define a function to extract Gabor features\n",
    "def extract_gabor_features(image):\n",
    "    # Convert the image to grayscale\n",
    "    gray_image = cv2.cvtColor(image, cv2.COLOR_BGR2GRAY)\n",
    "\n",
    "    # Define Gabor filter parameters\n",
    "    frequencies = [0.6, 0.8, 1.0]  # Adjust these values as needed\n",
    "    theta_values = [0, np.pi / 4, np.pi / 2, 3 * np.pi / 4]  # Adjust for different orientations\n",
    "\n",
    "    # Initialize a list to store Gabor features\n",
    "    gabor_feature_vector = []\n",
    "\n",
    "    for freq in frequencies:\n",
    "        for theta in theta_values:\n",
    "            # Apply Gabor filter to the grayscale image\n",
    "            gabor_response = np.abs(gabor(gray_image, frequency=freq, theta=theta)[0])\n",
    "\n",
    "            # Calculate statistics on the Gabor response, e.g., mean, standard deviation\n",
    "            gabor_feature_vector.append(np.mean(gabor_response))\n",
    "            gabor_feature_vector.append(np.std(gabor_response))\n",
    "\n",
    "    return gabor_feature_vector\n",
    "\n"
   ]
  },
  {
   "cell_type": "code",
   "execution_count": 4,
   "id": "e9a67442",
   "metadata": {
    "execution": {
     "iopub.execute_input": "2023-10-28T06:27:00.939911Z",
     "iopub.status.busy": "2023-10-28T06:27:00.939148Z",
     "iopub.status.idle": "2023-10-28T07:04:13.056320Z",
     "shell.execute_reply": "2023-10-28T07:04:13.055404Z"
    },
    "papermill": {
     "duration": 2232.130792,
     "end_time": "2023-10-28T07:04:13.058877",
     "exception": false,
     "start_time": "2023-10-28T06:27:00.928085",
     "status": "completed"
    },
    "tags": []
   },
   "outputs": [],
   "source": [
    "from collections import defaultdict\n",
    "image_dir = r'/kaggle/input/palmprint2/Left Hand-20230918T155734Z-001/Left Hand'\n",
    "import cv2\n",
    "# List all files in the directory\n",
    "all_files = os.listdir(image_dir)\n",
    "\n",
    "# Filter out only the image filenames\n",
    "image_filenames = [filename for filename in all_files if filename.lower().endswith(('.jpg', '.jpeg', '.png', '.gif'))]\n",
    "sorted_image_filenamesL = sorted(image_filenames)\n",
    "left_label=[int(i[:3]) for i in sorted_image_filenamesL]\n",
    "left = defaultdict(list)\n",
    "j=0\n",
    "for i in left_label:\n",
    "    image_path = os.path.join(image_dir, sorted_image_filenamesL[j])\n",
    "    # Load image using cv2\n",
    "    image = cv2.imread(image_path)\n",
    "    left[i].append( extract_gabor_features(image))\n",
    "    j+=1"
   ]
  },
  {
   "cell_type": "code",
   "execution_count": 5,
   "id": "2a9703aa",
   "metadata": {
    "execution": {
     "iopub.execute_input": "2023-10-28T07:04:13.081020Z",
     "iopub.status.busy": "2023-10-28T07:04:13.080357Z",
     "iopub.status.idle": "2023-10-28T07:04:13.085202Z",
     "shell.execute_reply": "2023-10-28T07:04:13.084316Z"
    },
    "papermill": {
     "duration": 0.018285,
     "end_time": "2023-10-28T07:04:13.087674",
     "exception": false,
     "start_time": "2023-10-28T07:04:13.069389",
     "status": "completed"
    },
    "tags": []
   },
   "outputs": [
    {
     "name": "stdout",
     "output_type": "stream",
     "text": [
      "[[4.395669791666666, 5.277822960997189, 4.686680208333334, 34.05990331814644, 4.358046875, 4.370378313369381, 4.6832765625, 34.04811479597617, 50.46631614583333, 40.92719604144211, 3.203709895833333, 12.224957169625299, 50.465763020833336, 40.92351115592672, 3.202472916666667, 12.212933100870968, 75.12898645833333, 60.728336526577394, 29.264384375, 23.930658397104803, 75.12898645833333, 60.728336526577394, 29.264450520833332, 23.93183361535143], [4.50430625, 7.189429972620288, 5.521172916666667, 36.89012500034302, 4.378948958333333, 4.636996017032804, 5.524095833333333, 36.90065402276066, 50.59086927083333, 41.33599242620105, 3.3241942708333334, 13.306023450074242, 50.590728125, 41.33204248661886, 3.3312432291666667, 13.372168053235216, 75.315478125, 61.334949887640036, 29.338634895833334, 24.176421318331844, 75.315478125, 61.334949887640036, 29.338596875, 24.17706717441634], [4.3639729166666665, 4.944695049505059, 4.530590625, 33.5025165199869, 4.341319270833333, 4.38844821296296, 4.531786979166666, 33.50699757458067, 50.277977604166665, 40.79142754628822, 3.1632333333333333, 11.935933609437045, 50.27768177083333, 40.78956902532371, 3.1623875, 11.927813045560523, 74.817521875, 60.49998201329401, 29.155344791666668, 23.85179872401036, 74.817521875, 60.49998201329401, 29.15569635416667, 23.854484658713528], [4.5401578125, 6.793835660000558, 5.923478645833334, 38.18457977381954, 4.4361817708333335, 4.6090133778238656, 5.891973958333334, 38.085468974938316, 51.117484895833336, 38.299384363351734, 3.2904765625, 12.70194108082717, 51.117519791666666, 38.29612421281776, 3.2918541666666665, 12.714809045442486, 76.09057083333333, 56.82400496862351, 29.6454796875, 22.40649871396372, 76.09057083333333, 56.82400496862351, 29.645899479166665, 22.405497112136985], [4.4130671875, 4.7646342526064736, 4.617458333333333, 33.82030394228094, 4.40484375, 4.58491940093672, 4.6106296875, 33.794278356164234, 50.88709479166667, 41.42925936558119, 3.2862526041666666, 12.776329128865918, 50.8867578125, 41.42559728068066, 3.2883479166666665, 12.796804502646513, 75.75313229166666, 61.471821534691145, 29.510911458333332, 24.22195994216977, 75.75313229166666, 61.471821534691145, 29.51110625, 24.223331224452675], [4.378934375, 4.885442383357932, 4.295250520833333, 32.634703977398786, 4.3567625, 4.3287804645489265, 4.294091145833334, 32.630116496657536, 50.45164166666667, 40.587095727541254, 3.1586375, 11.775691937288745, 50.45152916666667, 40.58331037245051, 3.159821875, 11.787048758133006, 75.10564479166666, 60.22139685508793, 29.25638125, 23.730035159153232, 75.10564479166666, 60.22139685508793, 29.256643229166666, 23.73120511546115]]\n"
     ]
    }
   ],
   "source": [
    "print(left[1])"
   ]
  },
  {
   "cell_type": "code",
   "execution_count": 6,
   "id": "af12c324",
   "metadata": {
    "execution": {
     "iopub.execute_input": "2023-10-28T07:04:13.108428Z",
     "iopub.status.busy": "2023-10-28T07:04:13.108169Z",
     "iopub.status.idle": "2023-10-28T07:04:13.112669Z",
     "shell.execute_reply": "2023-10-28T07:04:13.111846Z"
    },
    "papermill": {
     "duration": 0.017523,
     "end_time": "2023-10-28T07:04:13.114982",
     "exception": false,
     "start_time": "2023-10-28T07:04:13.097459",
     "status": "completed"
    },
    "tags": []
   },
   "outputs": [
    {
     "name": "stdout",
     "output_type": "stream",
     "text": [
      "24\n"
     ]
    }
   ],
   "source": [
    "print(len(left[1][0]))"
   ]
  },
  {
   "cell_type": "code",
   "execution_count": 7,
   "id": "e88d2591",
   "metadata": {
    "execution": {
     "iopub.execute_input": "2023-10-28T07:04:13.135392Z",
     "iopub.status.busy": "2023-10-28T07:04:13.135141Z",
     "iopub.status.idle": "2023-10-28T07:41:36.671158Z",
     "shell.execute_reply": "2023-10-28T07:41:36.670237Z"
    },
    "papermill": {
     "duration": 2243.548951,
     "end_time": "2023-10-28T07:41:36.673681",
     "exception": false,
     "start_time": "2023-10-28T07:04:13.124730",
     "status": "completed"
    },
    "tags": []
   },
   "outputs": [
    {
     "name": "stderr",
     "output_type": "stream",
     "text": [
      "Corrupt JPEG data: premature end of data segment\n"
     ]
    }
   ],
   "source": [
    "from collections import defaultdict\n",
    "image_dir = r'/kaggle/input/palmprint2/Right Hand-20230918T155917Z-001/Right Hand'\n",
    "import cv2\n",
    "# List all files in the directory\n",
    "all_files = os.listdir(image_dir)\n",
    "\n",
    "# Filter out only the image filenames\n",
    "image_filenames = [filename for filename in all_files if filename.lower().endswith(('.jpg', '.jpeg', '.png', '.gif'))]\n",
    "sorted_image_filenamesR = sorted(image_filenames)\n",
    "right_label=[int(i[:3]) for i in sorted_image_filenamesR]\n",
    "right = defaultdict(list)\n",
    "j=0\n",
    "for i in right_label:\n",
    "    image_path = os.path.join(image_dir, sorted_image_filenamesR[j])\n",
    "    # Load image using cv2\n",
    "    image = cv2.imread(image_path)\n",
    "    right[i].append( extract_gabor_features(image))\n",
    "    j+=1"
   ]
  },
  {
   "cell_type": "code",
   "execution_count": 8,
   "id": "f998abd6",
   "metadata": {
    "execution": {
     "iopub.execute_input": "2023-10-28T07:41:36.695840Z",
     "iopub.status.busy": "2023-10-28T07:41:36.695478Z",
     "iopub.status.idle": "2023-10-28T07:41:36.700591Z",
     "shell.execute_reply": "2023-10-28T07:41:36.699682Z"
    },
    "papermill": {
     "duration": 0.018155,
     "end_time": "2023-10-28T07:41:36.702519",
     "exception": false,
     "start_time": "2023-10-28T07:41:36.684364",
     "status": "completed"
    },
    "tags": []
   },
   "outputs": [
    {
     "name": "stdout",
     "output_type": "stream",
     "text": [
      "24\n"
     ]
    }
   ],
   "source": [
    "print(len(right[1][0]))"
   ]
  },
  {
   "cell_type": "markdown",
   "id": "74e49181",
   "metadata": {
    "papermill": {
     "duration": 0.009857,
     "end_time": "2023-10-28T07:41:36.722217",
     "exception": false,
     "start_time": "2023-10-28T07:41:36.712360",
     "status": "completed"
    },
    "tags": []
   },
   "source": [
    "## Intra-Class Variability"
   ]
  },
  {
   "cell_type": "code",
   "execution_count": 9,
   "id": "c7319c34",
   "metadata": {
    "execution": {
     "iopub.execute_input": "2023-10-28T07:41:36.743540Z",
     "iopub.status.busy": "2023-10-28T07:41:36.743219Z",
     "iopub.status.idle": "2023-10-28T07:41:36.797447Z",
     "shell.execute_reply": "2023-10-28T07:41:36.796763Z"
    },
    "papermill": {
     "duration": 0.06716,
     "end_time": "2023-10-28T07:41:36.799323",
     "exception": false,
     "start_time": "2023-10-28T07:41:36.732163",
     "status": "completed"
    },
    "tags": []
   },
   "outputs": [],
   "source": [
    "import numpy as np\n",
    "#Intra Variability\n",
    "intra_left=defaultdict(list)\n",
    "mean_left=defaultdict(list)\n",
    "mean_right=defaultdict(list)\n",
    "for i in range(1,231):\n",
    "    mean_lbp=np.mean(left[i],axis=0)\n",
    "    mean_left[i]=mean_lbp\n",
    "    intra_left[i]=[np.linalg.norm(mean_lbp - sample_lbp) for sample_lbp in left[i]]\n",
    "intra_right=defaultdict(list)\n",
    "for i in range(1,231):\n",
    "    mean_lbp=np.mean(right[i],axis=0)\n",
    "    mean_right[i]=mean_lbp\n",
    "    intra_right[i]=[np.linalg.norm(mean_lbp - sample_lbp) for sample_lbp in right[i]]"
   ]
  },
  {
   "cell_type": "code",
   "execution_count": 10,
   "id": "4dd67cf5",
   "metadata": {
    "execution": {
     "iopub.execute_input": "2023-10-28T07:41:36.820185Z",
     "iopub.status.busy": "2023-10-28T07:41:36.819870Z",
     "iopub.status.idle": "2023-10-28T07:41:36.824593Z",
     "shell.execute_reply": "2023-10-28T07:41:36.823677Z"
    },
    "papermill": {
     "duration": 0.017363,
     "end_time": "2023-10-28T07:41:36.826473",
     "exception": false,
     "start_time": "2023-10-28T07:41:36.809110",
     "status": "completed"
    },
    "tags": []
   },
   "outputs": [
    {
     "name": "stdout",
     "output_type": "stream",
     "text": [
      "[1.661434172581562, 4.177263847243959, 2.4963628256932062, 7.9400624563391515, 3.0225247857475077, 3.506558128565378]\n",
      "[0.8489598586332958, 5.622456131294365, 1.8993651805850174, 2.353142029044279, 5.669178318077449]\n"
     ]
    }
   ],
   "source": [
    "print(intra_left[1])\n",
    "print(intra_right[1])"
   ]
  },
  {
   "cell_type": "markdown",
   "id": "7a2eb060",
   "metadata": {
    "papermill": {
     "duration": 0.009647,
     "end_time": "2023-10-28T07:41:36.845906",
     "exception": false,
     "start_time": "2023-10-28T07:41:36.836259",
     "status": "completed"
    },
    "tags": []
   },
   "source": [
    "## Inter-Class Variability"
   ]
  },
  {
   "cell_type": "code",
   "execution_count": 11,
   "id": "a4e8338f",
   "metadata": {
    "execution": {
     "iopub.execute_input": "2023-10-28T07:41:36.866569Z",
     "iopub.status.busy": "2023-10-28T07:41:36.866285Z",
     "iopub.status.idle": "2023-10-28T07:41:36.884016Z",
     "shell.execute_reply": "2023-10-28T07:41:36.882744Z"
    },
    "papermill": {
     "duration": 0.031883,
     "end_time": "2023-10-28T07:41:36.887520",
     "exception": false,
     "start_time": "2023-10-28T07:41:36.855637",
     "status": "completed"
    },
    "tags": []
   },
   "outputs": [
    {
     "name": "stdout",
     "output_type": "stream",
     "text": [
      "Left Hand - Mean Inter-class Distance: 21.559245066837107\n",
      "Left Hand - Standard Deviation of Inter-class Distance: 10.599590164663457\n",
      "\n",
      "Right Hand - Mean Inter-class Distance: 22.355084505661576\n",
      "Right Hand - Standard Deviation of Inter-class Distance: 11.1307678468817\n"
     ]
    }
   ],
   "source": [
    "from sklearn.metrics.pairwise import euclidean_distances\n",
    "print(\"Left Hand - Mean Inter-class Distance:\", np.mean(euclidean_distances(list(mean_left.values()))))\n",
    "print(\"Left Hand - Standard Deviation of Inter-class Distance:\", np.std(euclidean_distances(list(mean_left.values()))))\n",
    "print(\"\\nRight Hand - Mean Inter-class Distance:\", np.mean(euclidean_distances(list(mean_right.values()))))\n",
    "print(\"Right Hand - Standard Deviation of Inter-class Distance:\", np.std(euclidean_distances(list(mean_right.values()))))"
   ]
  },
  {
   "cell_type": "code",
   "execution_count": 12,
   "id": "611c2904",
   "metadata": {
    "execution": {
     "iopub.execute_input": "2023-10-28T07:41:36.932301Z",
     "iopub.status.busy": "2023-10-28T07:41:36.931767Z",
     "iopub.status.idle": "2023-10-28T07:41:36.938965Z",
     "shell.execute_reply": "2023-10-28T07:41:36.937852Z"
    },
    "papermill": {
     "duration": 0.037934,
     "end_time": "2023-10-28T07:41:36.947258",
     "exception": false,
     "start_time": "2023-10-28T07:41:36.909324",
     "status": "completed"
    },
    "tags": []
   },
   "outputs": [
    {
     "name": "stdout",
     "output_type": "stream",
     "text": [
      "230 230\n",
      "[ 4.43268472  5.64264338  4.92910521 34.84868876  4.37935052  4.48642263\n",
      "  4.92264236 34.82760504 50.6318974  40.56172591  3.23775069 12.4534794\n",
      " 50.63166328 40.55835909  3.2393546  12.46859608 75.36855573 60.18008196\n",
      " 29.36185608 23.71956204 75.36855573 60.18008196 29.36206545 23.72056982]\n"
     ]
    }
   ],
   "source": [
    "print(len(mean_left),len(mean_right))\n",
    "print(mean_left[1])"
   ]
  },
  {
   "cell_type": "markdown",
   "id": "bd470212",
   "metadata": {
    "papermill": {
     "duration": 0.020731,
     "end_time": "2023-10-28T07:41:36.989460",
     "exception": false,
     "start_time": "2023-10-28T07:41:36.968729",
     "status": "completed"
    },
    "tags": []
   },
   "source": [
    "### Checking Inter-Class Variability for a particular person"
   ]
  },
  {
   "cell_type": "markdown",
   "id": "e434bd76",
   "metadata": {
    "papermill": {
     "duration": 0.011471,
     "end_time": "2023-10-28T07:41:37.022374",
     "exception": false,
     "start_time": "2023-10-28T07:41:37.010903",
     "status": "completed"
    },
    "tags": []
   },
   "source": [
    "#### At Threshold_1"
   ]
  },
  {
   "cell_type": "code",
   "execution_count": 13,
   "id": "8d02b2f3",
   "metadata": {
    "execution": {
     "iopub.execute_input": "2023-10-28T07:41:37.043871Z",
     "iopub.status.busy": "2023-10-28T07:41:37.043566Z",
     "iopub.status.idle": "2023-10-28T07:41:37.063440Z",
     "shell.execute_reply": "2023-10-28T07:41:37.062222Z"
    },
    "papermill": {
     "duration": 0.034096,
     "end_time": "2023-10-28T07:41:37.066691",
     "exception": false,
     "start_time": "2023-10-28T07:41:37.032595",
     "status": "completed"
    },
    "tags": []
   },
   "outputs": [
    {
     "data": {
      "text/plain": [
       "array([ True,  True,  True,  True,  True,  True,  True, False,  True,\n",
       "        True,  True,  True,  True, False,  True,  True,  True,  True,\n",
       "        True,  True,  True,  True,  True,  True,  True,  True,  True,\n",
       "        True, False,  True,  True,  True,  True,  True,  True,  True,\n",
       "        True,  True,  True,  True,  True,  True,  True,  True,  True,\n",
       "        True,  True,  True,  True,  True,  True,  True,  True,  True,\n",
       "        True,  True,  True,  True,  True,  True,  True,  True,  True,\n",
       "        True,  True,  True,  True,  True,  True,  True,  True,  True,\n",
       "        True,  True,  True,  True,  True, False,  True,  True,  True,\n",
       "       False,  True,  True,  True,  True,  True,  True,  True,  True,\n",
       "       False,  True,  True,  True, False,  True,  True,  True,  True,\n",
       "       False, False,  True,  True,  True,  True,  True, False,  True,\n",
       "        True,  True, False,  True,  True, False, False,  True,  True,\n",
       "        True, False, False, False,  True,  True, False,  True, False,\n",
       "       False,  True, False, False, False, False, False,  True, False,\n",
       "       False, False, False, False, False, False,  True,  True,  True,\n",
       "        True, False, False,  True,  True,  True, False,  True,  True,\n",
       "        True,  True,  True,  True, False,  True, False, False,  True,\n",
       "        True,  True, False,  True,  True,  True,  True,  True, False,\n",
       "       False,  True,  True,  True, False, False, False, False, False,\n",
       "       False,  True, False, False, False, False, False,  True,  True,\n",
       "        True,  True,  True,  True,  True, False, False, False, False,\n",
       "        True,  True, False, False,  True, False,  True, False,  True,\n",
       "        True,  True,  True,  True,  True,  True,  True, False, False,\n",
       "       False,  True,  True,  True,  True, False, False,  True, False,\n",
       "        True, False,  True,  True])"
      ]
     },
     "execution_count": 13,
     "metadata": {},
     "output_type": "execute_result"
    }
   ],
   "source": [
    "checker=mean_left[1]\n",
    "threshold_1=np.mean((euclidean_distances(list(mean_left.values()))))\n",
    "k=[]\n",
    "for i in range(2,231):\n",
    "   k.append(np.linalg.norm(checker-mean_left[i]))\n",
    "k<threshold_1"
   ]
  },
  {
   "cell_type": "code",
   "execution_count": 14,
   "id": "d969a93d",
   "metadata": {
    "execution": {
     "iopub.execute_input": "2023-10-28T07:41:37.114112Z",
     "iopub.status.busy": "2023-10-28T07:41:37.113595Z",
     "iopub.status.idle": "2023-10-28T07:41:37.133316Z",
     "shell.execute_reply": "2023-10-28T07:41:37.132155Z"
    },
    "papermill": {
     "duration": 0.047684,
     "end_time": "2023-10-28T07:41:37.137076",
     "exception": false,
     "start_time": "2023-10-28T07:41:37.089392",
     "status": "completed"
    },
    "tags": []
   },
   "outputs": [
    {
     "name": "stdout",
     "output_type": "stream",
     "text": [
      "False Positive:  163\n",
      "True Negative:  66\n",
      "True Positive: 5\n",
      "False Negative: 0\n",
      "False Positive Rate:  0.7117903930131004\n",
      "True Positive Rate: 1.0\n"
     ]
    }
   ],
   "source": [
    "FP_1=len([1 for i in k<threshold_1 if i==True])\n",
    "TN_1=len([0 for i in k<threshold_1 if i==False])\n",
    "FPR_1=FP_1/(FP_1+TN_1)\n",
    "h=[]\n",
    "for c in range(1,6):\n",
    "    h.append(abs(np.linalg.norm(left[1][c]-mean_left[1])))\n",
    "TP_1=len([1 for c in h<threshold_1 if c==True])\n",
    "FN_1=len([0 for c in h<threshold_1 if c==False])\n",
    "TPR_1=TP_1/(TP_1+FN_1)\n",
    "print('False Positive: ',FP_1)\n",
    "print('True Negative: ',TN_1)\n",
    "print('True Positive:',TP_1)\n",
    "print('False Negative:',FN_1)\n",
    "print('False Positive Rate: ',FPR_1)\n",
    "print('True Positive Rate:',TPR_1)"
   ]
  },
  {
   "cell_type": "code",
   "execution_count": 15,
   "id": "abc346dc",
   "metadata": {
    "execution": {
     "iopub.execute_input": "2023-10-28T07:41:37.184954Z",
     "iopub.status.busy": "2023-10-28T07:41:37.184123Z",
     "iopub.status.idle": "2023-10-28T07:41:37.189760Z",
     "shell.execute_reply": "2023-10-28T07:41:37.189075Z"
    },
    "papermill": {
     "duration": 0.031145,
     "end_time": "2023-10-28T07:41:37.191710",
     "exception": false,
     "start_time": "2023-10-28T07:41:37.160565",
     "status": "completed"
    },
    "tags": []
   },
   "outputs": [
    {
     "data": {
      "text/plain": [
       "21.559245066837107"
      ]
     },
     "execution_count": 15,
     "metadata": {},
     "output_type": "execute_result"
    }
   ],
   "source": [
    "threshold_1"
   ]
  },
  {
   "cell_type": "code",
   "execution_count": 16,
   "id": "3a01f219",
   "metadata": {
    "execution": {
     "iopub.execute_input": "2023-10-28T07:41:37.213630Z",
     "iopub.status.busy": "2023-10-28T07:41:37.213369Z",
     "iopub.status.idle": "2023-10-28T07:41:37.341318Z",
     "shell.execute_reply": "2023-10-28T07:41:37.340590Z"
    },
    "papermill": {
     "duration": 0.140988,
     "end_time": "2023-10-28T07:41:37.343292",
     "exception": false,
     "start_time": "2023-10-28T07:41:37.202304",
     "status": "completed"
    },
    "tags": []
   },
   "outputs": [],
   "source": [
    "threshold_array = np.arange(threshold_1, 0, -0.5)\n",
    "FPR=[]\n",
    "TPR=[]\n",
    "for i in threshold_array:\n",
    "    k=[]\n",
    "    h=[]\n",
    "    for j in range(2,231):\n",
    "        k.append(abs(np.linalg.norm(checker-mean_left[j])))\n",
    "    for c in range(1,6):\n",
    "        h.append(abs(np.linalg.norm(left[1][c]-mean_left[1])))    \n",
    "    FP=len([1 for c in k<i if c==True])\n",
    "    TN=len([0 for c in k<i if c==False])\n",
    "    TP=len([1 for c in h<i if c==True])\n",
    "    FN=len([0 for c in h<i if c==False])\n",
    "    FPR.append(FP/(FP+TN))\n",
    "    TPR.append(TP/(TP+FN))"
   ]
  },
  {
   "cell_type": "code",
   "execution_count": 17,
   "id": "3732c950",
   "metadata": {
    "execution": {
     "iopub.execute_input": "2023-10-28T07:41:37.365472Z",
     "iopub.status.busy": "2023-10-28T07:41:37.365200Z",
     "iopub.status.idle": "2023-10-28T07:41:37.666320Z",
     "shell.execute_reply": "2023-10-28T07:41:37.665388Z"
    },
    "papermill": {
     "duration": 0.314823,
     "end_time": "2023-10-28T07:41:37.668562",
     "exception": false,
     "start_time": "2023-10-28T07:41:37.353739",
     "status": "completed"
    },
    "tags": []
   },
   "outputs": [
    {
     "data": {
      "image/png": "[encoded data removed]",
      "text/plain": [
       "<Figure size 640x480 with 1 Axes>"
      ]
     },
     "metadata": {},
     "output_type": "display_data"
    }
   ],
   "source": [
    "import matplotlib.pyplot as plt\n",
    "\n",
    "# Hypothetical TPR and FPR values for different thresholds\n",
    "# Replace these with actual values from your model\n",
    "#thresholds = [0.01959017974191824, 0.019, 0.0185, 0.018, 0.0175]  # Example threshold values\n",
    "#tpr_values = tpr  # Example TPR values corresponding to the thresholds\n",
    "#fpr_values = fpr  # Example FPR values corresponding to the thresholds\n",
    "\n",
    "# Plot ROC curve\n",
    "plt.plot(FPR, TPR, color='b', marker='o', label='ROC curve')\n",
    "plt.plot([0, 1], [0, 1], color='gray', linestyle='--')  # Random classifier line\n",
    "plt.xlabel('False Positive Rate (FPR)')\n",
    "plt.ylabel('True Positive Rate (TPR)')\n",
    "plt.title('ROC Curve')\n",
    "plt.legend()\n",
    "plt.show()\n"
   ]
  }
 ],
 "metadata": {
  "kernelspec": {
   "display_name": "Python 3 (ipykernel)",
   "language": "python",
   "name": "python3"
  },
  "language_info": {
   "codemirror_mode": {
    "name": "ipython",
    "version": 3
   },
   "file_extension": ".py",
   "mimetype": "text/x-python",
   "name": "python",
   "nbconvert_exporter": "python",
   "pygments_lexer": "ipython3",
   "version": "3.9.12"
  },
  "papermill": {
   "default_parameters": {},
   "duration": 4485.013031,
   "end_time": "2023-10-28T07:41:39.518712",
   "environment_variables": {},
   "exception": null,
   "input_path": "__notebook__.ipynb",
   "output_path": "__notebook__.ipynb",
   "parameters": {},
   "start_time": "2023-10-28T06:26:54.505681",
   "version": "2.4.0"
  }
 },
 "nbformat": 4,
 "nbformat_minor": 5
}
