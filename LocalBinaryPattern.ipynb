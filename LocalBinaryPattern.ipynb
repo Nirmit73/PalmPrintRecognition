{
 "cells": [
  {
   "cell_type": "code",
   "execution_count": 3,
   "id": "2820325c",
   "metadata": {
    "execution": {
     "iopub.execute_input": "2023-10-28T16:48:13.064518Z",
     "iopub.status.busy": "2023-10-28T16:48:13.064169Z",
     "iopub.status.idle": "2023-10-28T16:48:14.712120Z",
     "shell.execute_reply": "2023-10-28T16:48:14.711289Z"
    },
    "papermill": {
     "duration": 1.661491,
     "end_time": "2023-10-28T16:48:14.714530",
     "exception": false,
     "start_time": "2023-10-28T16:48:13.053039",
     "status": "completed"
    },
    "tags": []
   },
   "outputs": [
    {
     "name": "stderr",
     "output_type": "stream",
     "text": [
      "/opt/conda/lib/python3.10/site-packages/scipy/__init__.py:146: UserWarning: A NumPy version >=1.16.5 and <1.23.0 is required for this version of SciPy (detected version 1.23.5\n",
      "  warnings.warn(f\"A NumPy version >={np_minversion} and <{np_maxversion}\"\n"
     ]
    }
   ],
   "source": [
    "import pandas as pd\n",
    "import cv2\n",
    "import os\n",
    "from collections import defaultdict\n",
    "from sklearn.model_selection import train_test_split\n",
    "from skimage import feature\n",
    "import numpy as np\n",
    "\n",
    "#defining LBP algorithm\n",
    "def extract_lbp_features(image):\n",
    "    # Convert the image to grayscale\n",
    "    gray_image = cv2.cvtColor(image, cv2.COLOR_BGR2GRAY)\n",
    "    \n",
    "    # Compute LBP features\n",
    "    radius = 3\n",
    "    n_points = 8 * radius\n",
    "    lbp = feature.local_binary_pattern(gray_image, n_points, radius, method='uniform')\n",
    "    \n",
    "    # Calculate the histogram of LBP features\n",
    "    hist, _ = np.histogram(lbp.ravel(), bins=np.arange(0, n_points + 3), range=(0, n_points + 2))\n",
    "    hist = hist.astype(\"float\")\n",
    "    hist /= (hist.sum() + 1e-7)  # Normalize the histogram\n",
    "    \n",
    "    return hist\n"
   ]
  },
  {
   "cell_type": "code",
   "execution_count": 4,
   "id": "12e92439",
   "metadata": {
    "execution": {
     "iopub.execute_input": "2023-10-28T16:48:14.756032Z",
     "iopub.status.busy": "2023-10-28T16:48:14.755657Z",
     "iopub.status.idle": "2023-10-28T17:06:08.263434Z",
     "shell.execute_reply": "2023-10-28T17:06:08.262366Z"
    },
    "papermill": {
     "duration": 1073.521575,
     "end_time": "2023-10-28T17:06:08.266080",
     "exception": false,
     "start_time": "2023-10-28T16:48:14.744505",
     "status": "completed"
    },
    "tags": []
   },
   "outputs": [],
   "source": [
    "from collections import defaultdict\n",
    "image_dir = r'/kaggle/input/palmprint2/Left Hand-20230918T155734Z-001/Left Hand'\n",
    "import cv2\n",
    "# List all files in the directory\n",
    "all_files = os.listdir(image_dir)\n",
    "\n",
    "# Filter out only the image filenames\n",
    "image_filenames = [filename for filename in all_files if filename.lower().endswith(('.jpg', '.jpeg', '.png', '.gif'))]\n",
    "sorted_image_filenamesL = sorted(image_filenames)\n",
    "left_label=[int(i[:3]) for i in sorted_image_filenamesL]\n",
    "left = defaultdict(list)\n",
    "j=0\n",
    "for i in left_label:\n",
    "    image_path = os.path.join(image_dir, sorted_image_filenamesL[j])\n",
    "    # Load image using cv2\n",
    "    image = cv2.imread(image_path)\n",
    "    left[i].append(extract_lbp_features(image))\n",
    "    j+=1"
   ]
  },
  {
   "cell_type": "code",
   "execution_count": 5,
   "id": "eebf0b9c",
   "metadata": {
    "execution": {
     "iopub.execute_input": "2023-10-28T17:06:08.287212Z",
     "iopub.status.busy": "2023-10-28T17:06:08.286891Z",
     "iopub.status.idle": "2023-10-28T17:06:08.293602Z",
     "shell.execute_reply": "2023-10-28T17:06:08.292709Z"
    },
    "papermill": {
     "duration": 0.019881,
     "end_time": "2023-10-28T17:06:08.296162",
     "exception": false,
     "start_time": "2023-10-28T17:06:08.276281",
     "status": "completed"
    },
    "tags": []
   },
   "outputs": [
    {
     "name": "stdout",
     "output_type": "stream",
     "text": [
      "[array([0.05328802, 0.03581458, 0.01641927, 0.00973646, 0.00739115,\n",
      "       0.00638802, 0.00627969, 0.00705   , 0.00825833, 0.01054844,\n",
      "       0.01465521, 0.02209062, 0.02812812, 0.02162344, 0.01401458,\n",
      "       0.0102625 , 0.00764427, 0.00671042, 0.00603333, 0.00668698,\n",
      "       0.00755   , 0.01067344, 0.0184349 , 0.03803906, 0.06617083,\n",
      "       0.56010833]), array([0.05538021, 0.03645208, 0.01717396, 0.01008802, 0.00720677,\n",
      "       0.00596615, 0.0057474 , 0.0062375 , 0.00744219, 0.00943333,\n",
      "       0.01325729, 0.01991562, 0.02558698, 0.01990625, 0.01278646,\n",
      "       0.00926719, 0.00698437, 0.00623854, 0.00565833, 0.00623802,\n",
      "       0.00737396, 0.01081823, 0.019     , 0.03884271, 0.06719271,\n",
      "       0.56980573]), array([0.05186458, 0.03526198, 0.01588333, 0.00948542, 0.00729948,\n",
      "       0.0064375 , 0.00633437, 0.00736302, 0.0088974 , 0.01168385,\n",
      "       0.01634583, 0.02444167, 0.0306349 , 0.02337604, 0.01520052,\n",
      "       0.01104323, 0.00821979, 0.0069974 , 0.00621823, 0.00658125,\n",
      "       0.00741354, 0.01049427, 0.01793385, 0.03757083, 0.06456562,\n",
      "       0.55245208]), array([0.05515885, 0.03635625, 0.0172    , 0.01015729, 0.00741719,\n",
      "       0.00608802, 0.0058099 , 0.00645781, 0.00738542, 0.00943906,\n",
      "       0.01269948, 0.01885937, 0.02467604, 0.01881979, 0.01234219,\n",
      "       0.0090974 , 0.00694792, 0.00614375, 0.00574479, 0.00621771,\n",
      "       0.00745677, 0.01106771, 0.018975  , 0.03900937, 0.06679583,\n",
      "       0.57367708]), array([0.05197396, 0.03474687, 0.01630156, 0.00984948, 0.00746823,\n",
      "       0.00670052, 0.00655156, 0.00739479, 0.00867396, 0.01134167,\n",
      "       0.0160651 , 0.02507969, 0.03271979, 0.02473854, 0.0154    ,\n",
      "       0.0109224 , 0.00811667, 0.00698385, 0.00630729, 0.00665365,\n",
      "       0.00759062, 0.01076302, 0.01810625, 0.03727552, 0.0646724 ,\n",
      "       0.5476026 ]), array([0.05165625, 0.03515833, 0.01592083, 0.00925781, 0.00701406,\n",
      "       0.00647448, 0.00637656, 0.00733385, 0.00878698, 0.01137448,\n",
      "       0.01603802, 0.0245526 , 0.0314526 , 0.02412135, 0.01521875,\n",
      "       0.01092865, 0.00825469, 0.00691354, 0.00612448, 0.00663802,\n",
      "       0.00733906, 0.01042552, 0.0177849 , 0.03728854, 0.06470625,\n",
      "       0.55285937])]\n"
     ]
    }
   ],
   "source": [
    "print(left[1])"
   ]
  },
  {
   "cell_type": "code",
   "execution_count": 6,
   "id": "d3824429",
   "metadata": {
    "execution": {
     "iopub.execute_input": "2023-10-28T17:06:08.317592Z",
     "iopub.status.busy": "2023-10-28T17:06:08.316872Z",
     "iopub.status.idle": "2023-10-28T17:06:08.321491Z",
     "shell.execute_reply": "2023-10-28T17:06:08.320633Z"
    },
    "papermill": {
     "duration": 0.017223,
     "end_time": "2023-10-28T17:06:08.323313",
     "exception": false,
     "start_time": "2023-10-28T17:06:08.306090",
     "status": "completed"
    },
    "tags": []
   },
   "outputs": [
    {
     "name": "stdout",
     "output_type": "stream",
     "text": [
      "26\n"
     ]
    }
   ],
   "source": [
    "print(len(left[1][0]))"
   ]
  },
  {
   "cell_type": "code",
   "execution_count": 7,
   "id": "144a9c83",
   "metadata": {
    "execution": {
     "iopub.execute_input": "2023-10-28T17:06:08.344177Z",
     "iopub.status.busy": "2023-10-28T17:06:08.343879Z",
     "iopub.status.idle": "2023-10-28T17:24:01.421920Z",
     "shell.execute_reply": "2023-10-28T17:24:01.421119Z"
    },
    "papermill": {
     "duration": 1073.091186,
     "end_time": "2023-10-28T17:24:01.424374",
     "exception": false,
     "start_time": "2023-10-28T17:06:08.333188",
     "status": "completed"
    },
    "tags": []
   },
   "outputs": [
    {
     "name": "stderr",
     "output_type": "stream",
     "text": [
      "Corrupt JPEG data: premature end of data segment\n"
     ]
    }
   ],
   "source": [
    "from collections import defaultdict\n",
    "image_dir = r'/kaggle/input/palmprint2/Right Hand-20230918T155917Z-001/Right Hand'\n",
    "import cv2\n",
    "# List all files in the directory\n",
    "all_files = os.listdir(image_dir)\n",
    "\n",
    "# Filter out only the image filenames\n",
    "image_filenames = [filename for filename in all_files if filename.lower().endswith(('.jpg', '.jpeg', '.png', '.gif'))]\n",
    "sorted_image_filenamesR = sorted(image_filenames)\n",
    "right_label=[int(i[:3]) for i in sorted_image_filenamesR]\n",
    "right = defaultdict(list)\n",
    "j=0\n",
    "for i in right_label:\n",
    "    image_path = os.path.join(image_dir, sorted_image_filenamesR[j])\n",
    "    # Load image using cv2\n",
    "    image = cv2.imread(image_path)\n",
    "    right[i].append(extract_lbp_features(image))\n",
    "    j+=1"
   ]
  },
  {
   "cell_type": "code",
   "execution_count": 8,
   "id": "3676cd92",
   "metadata": {
    "execution": {
     "iopub.execute_input": "2023-10-28T17:24:01.446480Z",
     "iopub.status.busy": "2023-10-28T17:24:01.446184Z",
     "iopub.status.idle": "2023-10-28T17:24:01.450782Z",
     "shell.execute_reply": "2023-10-28T17:24:01.449894Z"
    },
    "papermill": {
     "duration": 0.017899,
     "end_time": "2023-10-28T17:24:01.453034",
     "exception": false,
     "start_time": "2023-10-28T17:24:01.435135",
     "status": "completed"
    },
    "tags": []
   },
   "outputs": [
    {
     "name": "stdout",
     "output_type": "stream",
     "text": [
      "26\n"
     ]
    }
   ],
   "source": [
    "print(len(right[1][0]))"
   ]
  },
  {
   "cell_type": "markdown",
   "id": "005e2757",
   "metadata": {
    "papermill": {
     "duration": 0.009848,
     "end_time": "2023-10-28T17:24:01.473042",
     "exception": false,
     "start_time": "2023-10-28T17:24:01.463194",
     "status": "completed"
    },
    "tags": []
   },
   "source": [
    "## Intra-Class Variability"
   ]
  },
  {
   "cell_type": "code",
   "execution_count": 9,
   "id": "a6dfe02f",
   "metadata": {
    "execution": {
     "iopub.execute_input": "2023-10-28T17:24:01.494416Z",
     "iopub.status.busy": "2023-10-28T17:24:01.493920Z",
     "iopub.status.idle": "2023-10-28T17:24:01.527982Z",
     "shell.execute_reply": "2023-10-28T17:24:01.527137Z"
    },
    "papermill": {
     "duration": 0.046766,
     "end_time": "2023-10-28T17:24:01.529888",
     "exception": false,
     "start_time": "2023-10-28T17:24:01.483122",
     "status": "completed"
    },
    "tags": []
   },
   "outputs": [],
   "source": [
    "import numpy as np\n",
    "#Intra Variability\n",
    "intra_left=defaultdict(list)\n",
    "mean_left=defaultdict(list)\n",
    "mean_right=defaultdict(list)\n",
    "for i in range(1,231):\n",
    "    mean_lbp=np.mean(left[i],axis=0)\n",
    "    mean_left[i]=mean_lbp\n",
    "    intra_left[i]=[np.linalg.norm(mean_lbp - sample_lbp) for sample_lbp in left[i]]\n",
    "intra_right=defaultdict(list)\n",
    "for i in range(1,231):\n",
    "    mean_lbp=np.mean(right[i],axis=0)\n",
    "    mean_right[i]=mean_lbp\n",
    "    intra_right[i]=[np.linalg.norm(mean_lbp - sample_lbp) for sample_lbp in right[i]]"
   ]
  },
  {
   "cell_type": "code",
   "execution_count": 10,
   "id": "4a746c29",
   "metadata": {
    "execution": {
     "iopub.execute_input": "2023-10-28T17:24:01.551687Z",
     "iopub.status.busy": "2023-10-28T17:24:01.550895Z",
     "iopub.status.idle": "2023-10-28T17:24:01.555776Z",
     "shell.execute_reply": "2023-10-28T17:24:01.554828Z"
    },
    "papermill": {
     "duration": 0.017558,
     "end_time": "2023-10-28T17:24:01.557701",
     "exception": false,
     "start_time": "2023-10-28T17:24:01.540143",
     "status": "completed"
    },
    "tags": []
   },
   "outputs": [
    {
     "name": "stdout",
     "output_type": "stream",
     "text": [
      "[0.0013533111836597396, 0.012191706129853524, 0.008202822225819896, 0.0162905609174761, 0.01331039080998003, 0.008228812550983336]\n",
      "[0.0015676211492922187, 0.007684763619245256, 0.0021446076799019635, 0.005464190637100229, 0.016372870295268925]\n"
     ]
    }
   ],
   "source": [
    "print(intra_left[1])\n",
    "print(intra_right[1])"
   ]
  },
  {
   "cell_type": "markdown",
   "id": "6c7641e0",
   "metadata": {
    "papermill": {
     "duration": 0.009837,
     "end_time": "2023-10-28T17:24:01.577872",
     "exception": false,
     "start_time": "2023-10-28T17:24:01.568035",
     "status": "completed"
    },
    "tags": []
   },
   "source": [
    "## Inter-Class Variability"
   ]
  },
  {
   "cell_type": "code",
   "execution_count": 11,
   "id": "28c686f5",
   "metadata": {
    "execution": {
     "iopub.execute_input": "2023-10-28T17:24:01.599424Z",
     "iopub.status.busy": "2023-10-28T17:24:01.598755Z",
     "iopub.status.idle": "2023-10-28T17:24:01.617259Z",
     "shell.execute_reply": "2023-10-28T17:24:01.615824Z"
    },
    "papermill": {
     "duration": 0.033154,
     "end_time": "2023-10-28T17:24:01.621042",
     "exception": false,
     "start_time": "2023-10-28T17:24:01.587888",
     "status": "completed"
    },
    "tags": []
   },
   "outputs": [
    {
     "name": "stdout",
     "output_type": "stream",
     "text": [
      "Left Hand - Mean Inter-class Distance: 0.01959017974191824\n",
      "Left Hand - Standard Deviation of Inter-class Distance: 0.013177435214765507\n",
      "\n",
      "Right Hand - Mean Inter-class Distance: 0.019668804443975882\n",
      "Right Hand - Standard Deviation of Inter-class Distance: 0.012980639324452528\n"
     ]
    }
   ],
   "source": [
    "from sklearn.metrics.pairwise import euclidean_distances\n",
    "print(\"Left Hand - Mean Inter-class Distance:\", np.mean(euclidean_distances(list(mean_left.values()))))\n",
    "print(\"Left Hand - Standard Deviation of Inter-class Distance:\", np.std(euclidean_distances(list(mean_left.values()))))\n",
    "print(\"\\nRight Hand - Mean Inter-class Distance:\", np.mean(euclidean_distances(list(mean_right.values()))))\n",
    "print(\"Right Hand - Standard Deviation of Inter-class Distance:\", np.std(euclidean_distances(list(mean_right.values()))))"
   ]
  },
  {
   "cell_type": "code",
   "execution_count": 12,
   "id": "92d74a4a",
   "metadata": {
    "execution": {
     "iopub.execute_input": "2023-10-28T17:24:01.670231Z",
     "iopub.status.busy": "2023-10-28T17:24:01.669621Z",
     "iopub.status.idle": "2023-10-28T17:24:01.678033Z",
     "shell.execute_reply": "2023-10-28T17:24:01.676872Z"
    },
    "papermill": {
     "duration": 0.041451,
     "end_time": "2023-10-28T17:24:01.685285",
     "exception": false,
     "start_time": "2023-10-28T17:24:01.643834",
     "status": "completed"
    },
    "tags": []
   },
   "outputs": [
    {
     "name": "stdout",
     "output_type": "stream",
     "text": [
      "230 230\n",
      "[0.05322031 0.03563168 0.01648316 0.00976241 0.00729948 0.00634245\n",
      " 0.00618325 0.00697283 0.00824071 0.01063681 0.01484349 0.02248993\n",
      " 0.02886641 0.02209757 0.01416042 0.01025356 0.00769462 0.00666458\n",
      " 0.00601441 0.0065026  0.00745399 0.01070703 0.01837248 0.03800434\n",
      " 0.06568394 0.55941753]\n"
     ]
    }
   ],
   "source": [
    "print(len(mean_left),len(mean_right))\n",
    "print(mean_left[1])"
   ]
  },
  {
   "cell_type": "markdown",
   "id": "bd2455bf",
   "metadata": {
    "papermill": {
     "duration": 0.021376,
     "end_time": "2023-10-28T17:24:01.728637",
     "exception": false,
     "start_time": "2023-10-28T17:24:01.707261",
     "status": "completed"
    },
    "tags": []
   },
   "source": [
    "### Checking Inter-Class Variability for a particular person"
   ]
  },
  {
   "cell_type": "markdown",
   "id": "8f05f822",
   "metadata": {
    "papermill": {
     "duration": 0.010111,
     "end_time": "2023-10-28T17:24:01.758625",
     "exception": false,
     "start_time": "2023-10-28T17:24:01.748514",
     "status": "completed"
    },
    "tags": []
   },
   "source": [
    "#### At Threshold_1"
   ]
  },
  {
   "cell_type": "code",
   "execution_count": 13,
   "id": "91224d68",
   "metadata": {
    "execution": {
     "iopub.execute_input": "2023-10-28T17:24:01.780053Z",
     "iopub.status.busy": "2023-10-28T17:24:01.779769Z",
     "iopub.status.idle": "2023-10-28T17:24:01.792312Z",
     "shell.execute_reply": "2023-10-28T17:24:01.791452Z"
    },
    "papermill": {
     "duration": 0.025588,
     "end_time": "2023-10-28T17:24:01.794290",
     "exception": false,
     "start_time": "2023-10-28T17:24:01.768702",
     "status": "completed"
    },
    "tags": []
   },
   "outputs": [
    {
     "data": {
      "text/plain": [
       "array([ True, False,  True,  True,  True,  True,  True,  True,  True,\n",
       "        True, False,  True,  True,  True,  True,  True,  True,  True,\n",
       "        True,  True,  True,  True, False, False,  True,  True,  True,\n",
       "        True, False,  True,  True,  True,  True,  True,  True,  True,\n",
       "        True,  True,  True,  True,  True,  True,  True, False,  True,\n",
       "        True, False,  True,  True,  True,  True,  True, False,  True,\n",
       "        True,  True,  True,  True, False,  True,  True,  True, False,\n",
       "        True,  True,  True,  True,  True, False, False, False,  True,\n",
       "        True,  True,  True,  True, False, False, False, False,  True,\n",
       "       False,  True,  True, False, False, False,  True, False,  True,\n",
       "       False, False, False, False, False,  True,  True, False,  True,\n",
       "       False, False,  True, False, False,  True, False,  True, False,\n",
       "       False, False,  True, False, False, False, False, False, False,\n",
       "       False, False, False, False, False, False, False,  True, False,\n",
       "       False, False, False, False, False, False, False, False, False,\n",
       "       False, False, False, False, False, False,  True, False, False,\n",
       "       False, False, False, False, False, False, False, False, False,\n",
       "       False, False, False,  True, False, False, False, False, False,\n",
       "       False, False,  True, False, False, False,  True, False, False,\n",
       "       False, False, False, False, False, False, False, False, False,\n",
       "       False, False,  True, False, False, False, False, False, False,\n",
       "        True, False,  True, False, False, False, False, False, False,\n",
       "       False,  True, False, False, False, False, False, False, False,\n",
       "       False, False, False,  True, False, False, False, False, False,\n",
       "       False, False, False, False, False, False, False, False, False,\n",
       "       False, False, False, False])"
      ]
     },
     "execution_count": 13,
     "metadata": {},
     "output_type": "execute_result"
    }
   ],
   "source": [
    "checker=mean_left[1]\n",
    "threshold_1=np.mean((euclidean_distances(list(mean_left.values()))))\n",
    "k=[]\n",
    "for i in range(2,231):\n",
    "    k.append(np.linalg.norm(checker-mean_left[i]))\n",
    "k<threshold_1"
   ]
  },
  {
   "cell_type": "code",
   "execution_count": 14,
   "id": "76ada123",
   "metadata": {
    "execution": {
     "iopub.execute_input": "2023-10-28T17:24:01.828181Z",
     "iopub.status.busy": "2023-10-28T17:24:01.827549Z",
     "iopub.status.idle": "2023-10-28T17:24:01.846142Z",
     "shell.execute_reply": "2023-10-28T17:24:01.844499Z"
    },
    "papermill": {
     "duration": 0.044702,
     "end_time": "2023-10-28T17:24:01.849390",
     "exception": false,
     "start_time": "2023-10-28T17:24:01.804688",
     "status": "completed"
    },
    "tags": []
   },
   "outputs": [
    {
     "name": "stdout",
     "output_type": "stream",
     "text": [
      "False Positive:  85\n",
      "True Negative:  144\n",
      "True Positive: 5\n",
      "False Negative: 0\n",
      "False Positive Rate:  0.37117903930131\n",
      "True Positive Rate: 1.0\n"
     ]
    }
   ],
   "source": [
    "FP_1=len([1 for i in k<threshold_1 if i==True])\n",
    "TN_1=len([0 for i in k<threshold_1 if i==False])\n",
    "FPR_1=FP_1/(FP_1+TN_1)\n",
    "h=[]\n",
    "for c in range(1,6):\n",
    "    h.append(abs(np.linalg.norm(left[1][c]-mean_left[1])))\n",
    "TP_1=len([1 for c in h<threshold_1 if c==True])\n",
    "FN_1=len([0 for c in h<threshold_1 if c==False])\n",
    "TPR_1=TP_1/(TP_1+FN_1)\n",
    "print('False Positive: ',FP_1)\n",
    "print('True Negative: ',TN_1)\n",
    "print('True Positive:',TP_1)\n",
    "print('False Negative:',FN_1)\n",
    "print('False Positive Rate: ',FPR_1)\n",
    "print('True Positive Rate:',TPR_1)"
   ]
  },
  {
   "cell_type": "code",
   "execution_count": 15,
   "id": "b00ee36d",
   "metadata": {
    "execution": {
     "iopub.execute_input": "2023-10-28T17:24:01.896291Z",
     "iopub.status.busy": "2023-10-28T17:24:01.895829Z",
     "iopub.status.idle": "2023-10-28T17:24:01.903694Z",
     "shell.execute_reply": "2023-10-28T17:24:01.902603Z"
    },
    "papermill": {
     "duration": 0.035329,
     "end_time": "2023-10-28T17:24:01.907034",
     "exception": false,
     "start_time": "2023-10-28T17:24:01.871705",
     "status": "completed"
    },
    "tags": []
   },
   "outputs": [
    {
     "data": {
      "text/plain": [
       "0.01959017974191824"
      ]
     },
     "execution_count": 15,
     "metadata": {},
     "output_type": "execute_result"
    }
   ],
   "source": [
    "threshold_1"
   ]
  },
  {
   "cell_type": "code",
   "execution_count": 16,
   "id": "573d0554",
   "metadata": {
    "execution": {
     "iopub.execute_input": "2023-10-28T17:24:01.934705Z",
     "iopub.status.busy": "2023-10-28T17:24:01.934477Z",
     "iopub.status.idle": "2023-10-28T17:24:02.198103Z",
     "shell.execute_reply": "2023-10-28T17:24:02.197168Z"
    },
    "papermill": {
     "duration": 0.27723,
     "end_time": "2023-10-28T17:24:02.200263",
     "exception": false,
     "start_time": "2023-10-28T17:24:01.923033",
     "status": "completed"
    },
    "tags": []
   },
   "outputs": [],
   "source": [
    "threshold_array = np.arange(threshold_1, 0, -0.0002)\n",
    "FPR=[]\n",
    "TPR=[]\n",
    "for i in threshold_array:\n",
    "    k=[]\n",
    "    h=[]\n",
    "    for j in range(2,231):\n",
    "        k.append(abs(np.linalg.norm(checker-mean_left[j])))\n",
    "    for c in range(1,6):\n",
    "        h.append(abs(np.linalg.norm(left[1][c]-mean_left[1])))    \n",
    "    FP=len([1 for c in k<i if c==True])\n",
    "    TN=len([0 for c in k<i if c==False])\n",
    "    TP=len([1 for c in h<i if c==True])\n",
    "    FN=len([0 for c in h<i if c==False])\n",
    "    FPR.append(FP/(FP+TN))\n",
    "    TPR.append(TP/(TP+FN))"
   ]
  },
  {
   "cell_type": "code",
   "execution_count": 17,
   "id": "c552f9ba",
   "metadata": {
    "execution": {
     "iopub.execute_input": "2023-10-28T17:24:02.223238Z",
     "iopub.status.busy": "2023-10-28T17:24:02.222948Z",
     "iopub.status.idle": "2023-10-28T17:24:02.227581Z",
     "shell.execute_reply": "2023-10-28T17:24:02.226675Z"
    },
    "papermill": {
     "duration": 0.01832,
     "end_time": "2023-10-28T17:24:02.229665",
     "exception": false,
     "start_time": "2023-10-28T17:24:02.211345",
     "status": "completed"
    },
    "tags": []
   },
   "outputs": [
    {
     "name": "stdout",
     "output_type": "stream",
     "text": [
      "[1.0, 1.0, 1.0, 1.0, 1.0, 1.0, 1.0, 1.0, 1.0, 1.0, 1.0, 1.0, 1.0, 1.0, 1.0, 1.0, 1.0, 0.8, 0.8, 0.8, 0.8, 0.8, 0.8, 0.8, 0.8, 0.8, 0.8, 0.8, 0.8, 0.8, 0.8, 0.8, 0.6, 0.6, 0.6, 0.6, 0.6, 0.4, 0.4, 0.4, 0.4, 0.4, 0.4, 0.4, 0.4, 0.4, 0.4, 0.4, 0.4, 0.4, 0.4, 0.4, 0.4, 0.4, 0.4, 0.4, 0.4, 0.0, 0.0, 0.0, 0.0, 0.0, 0.0, 0.0, 0.0, 0.0, 0.0, 0.0, 0.0, 0.0, 0.0, 0.0, 0.0, 0.0, 0.0, 0.0, 0.0, 0.0, 0.0, 0.0, 0.0, 0.0, 0.0, 0.0, 0.0, 0.0, 0.0, 0.0, 0.0, 0.0, 0.0, 0.0, 0.0, 0.0, 0.0, 0.0, 0.0, 0.0]\n",
      "[0.37117903930131, 0.37117903930131, 0.37117903930131, 0.3624454148471616, 0.34934497816593885, 0.34497816593886466, 0.3406113537117904, 0.33624454148471616, 0.33624454148471616, 0.33624454148471616, 0.3231441048034934, 0.3231441048034934, 0.3231441048034934, 0.31877729257641924, 0.31877729257641924, 0.31877729257641924, 0.31004366812227074, 0.31004366812227074, 0.30131004366812225, 0.29694323144104806, 0.29694323144104806, 0.2925764192139738, 0.2838427947598253, 0.2794759825327511, 0.2794759825327511, 0.27510917030567683, 0.27510917030567683, 0.27074235807860264, 0.27074235807860264, 0.2663755458515284, 0.2576419213973799, 0.24890829694323144, 0.2445414847161572, 0.24017467248908297, 0.23580786026200873, 0.22270742358078602, 0.22270742358078602, 0.2183406113537118, 0.2183406113537118, 0.21397379912663755, 0.2096069868995633, 0.2052401746724891, 0.20087336244541484, 0.20087336244541484, 0.20087336244541484, 0.19213973799126638, 0.19213973799126638, 0.18777292576419213, 0.18340611353711792, 0.17467248908296942, 0.1703056768558952, 0.1703056768558952, 0.16593886462882096, 0.1615720524017467, 0.1572052401746725, 0.15283842794759825, 0.14847161572052403, 0.13100436681222707, 0.12663755458515283, 0.11353711790393013, 0.1091703056768559, 0.1091703056768559, 0.10043668122270742, 0.08296943231441048, 0.08296943231441048, 0.07423580786026202, 0.06550218340611354, 0.0611353711790393, 0.05240174672489083, 0.048034934497816595, 0.043668122270742356, 0.043668122270742356, 0.043668122270742356, 0.039301310043668124, 0.026200873362445413, 0.026200873362445413, 0.026200873362445413, 0.017467248908296942, 0.017467248908296942, 0.013100436681222707, 0.004366812227074236, 0.004366812227074236, 0.004366812227074236, 0.004366812227074236, 0.0, 0.0, 0.0, 0.0, 0.0, 0.0, 0.0, 0.0, 0.0, 0.0, 0.0, 0.0, 0.0, 0.0]\n"
     ]
    }
   ],
   "source": [
    "print(TPR)\n",
    "print(FPR)"
   ]
  },
  {
   "cell_type": "code",
   "execution_count": 18,
   "id": "b7601e5a",
   "metadata": {
    "execution": {
     "iopub.execute_input": "2023-10-28T17:24:02.252442Z",
     "iopub.status.busy": "2023-10-28T17:24:02.252156Z",
     "iopub.status.idle": "2023-10-28T17:24:02.547261Z",
     "shell.execute_reply": "2023-10-28T17:24:02.546182Z"
    },
    "papermill": {
     "duration": 0.308758,
     "end_time": "2023-10-28T17:24:02.549262",
     "exception": false,
     "start_time": "2023-10-28T17:24:02.240504",
     "status": "completed"
    },
    "tags": []
   },
   "outputs": [
    {
     "data": {
      "image/png": "[encoded data removed]",
      "text/plain": [
       "<Figure size 640x480 with 1 Axes>"
      ]
     },
     "metadata": {},
     "output_type": "display_data"
    }
   ],
   "source": [
    "import matplotlib.pyplot as plt\n",
    "\n",
    "# Hypothetical TPR and FPR values for different thresholds\n",
    "# Replace these with actual values from your model\n",
    "#thresholds = [0.01959017974191824, 0.019, 0.0185, 0.018, 0.0175]  # Example threshold values\n",
    "#tpr_values = tpr  # Example TPR values corresponding to the thresholds\n",
    "#fpr_values = fpr  # Example FPR values corresponding to the thresholds\n",
    "\n",
    "# Plot ROC curve\n",
    "plt.plot(FPR, TPR, color='b', marker='o', label='ROC curve')\n",
    "plt.plot([0, 1], [0, 1], color='gray', linestyle='--')  # Random classifier line\n",
    "plt.xlabel('False Positive Rate (FPR)')\n",
    "plt.ylabel('True Positive Rate (TPR)')\n",
    "plt.title('ROC Curve')\n",
    "plt.legend()\n",
    "plt.show()\n"
   ]
  }
 ],
 "metadata": {
  "kernelspec": {
   "display_name": "Python 3 (ipykernel)",
   "language": "python",
   "name": "python3"
  },
  "language_info": {
   "codemirror_mode": {
    "name": "ipython",
    "version": 3
   },
   "file_extension": ".py",
   "mimetype": "text/x-python",
   "name": "python",
   "nbconvert_exporter": "python",
   "pygments_lexer": "ipython3",
   "version": "3.9.12"
  },
  "papermill": {
   "default_parameters": {},
   "duration": 2156.291181,
   "end_time": "2023-10-28T17:24:04.275253",
   "environment_variables": {},
   "exception": null,
   "input_path": "__notebook__.ipynb",
   "output_path": "__notebook__.ipynb",
   "parameters": {},
   "start_time": "2023-10-28T16:48:07.984072",
   "version": "2.4.0"
  }
 },
 "nbformat": 4,
 "nbformat_minor": 5
}
